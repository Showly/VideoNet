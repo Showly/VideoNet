{
 "cells": [
  {
   "cell_type": "code",
   "execution_count": 1,
   "metadata": {
    "collapsed": true
   },
   "outputs": [],
   "source": [
    "#Importing required libraries\n",
    "import os\n",
    "import numpy as np"
   ]
  },
  {
   "cell_type": "code",
   "execution_count": null,
   "metadata": {
    "collapsed": false
   },
   "outputs": [],
   "source": [
    "#We have a file (results.txt) containing the name of video and its corresponding durations.\n",
    "#The shell script used to generate this file can be found at ...\n",
    "file_duration={}\n",
    "results=np.loadtxt('/home/ubuntu/VideoNet/results.txt',dtype=str,delimiter='\\n')\n",
    "for i in range(len(results)):\n",
    "    try:\n",
    "        minutes=float(results[i].split(' ')[0])\n",
    "        seconds=float(results[i].split(' ')[1])\n",
    "        duration=(60.0*minutes)+seconds  #duration of each video is stored in the dict file_duratoin\n",
    "        fname=results[i].split(' ')[2].split('/')[1]\n",
    "        file_duration[fname]=duration\n",
    "    except:\n",
    "        print \"Error occured!!\""
   ]
  },
  {
   "cell_type": "code",
   "execution_count": null,
   "metadata": {
    "collapsed": false
   },
   "outputs": [],
   "source": [
    "DATA_PATH = '/home/ubuntu/VideoNet/UCF-101/' # path to the UCF-101 videos in avi format \n",
    "\n",
    "class_names = sorted(os.listdir(DATA_PATH)) \n",
    "\n",
    "WRITE_PATH = '/home/ubuntu/VideoNet/cnn_in_data_server_2seconds/' #path where you want to store the frames extracted from each video\n",
    "\n",
    "\n",
    "print(\"extracting...\")\n",
    "\n",
    "for class_index in range(len(class_names)): #iterate each class of UCF101\n",
    "    class_name = class_names[class_index]\n",
    "    print('extracting for class %s' % class_name)\n",
    "    write_dir = WRITE_PATH + class_name + '/'\n",
    "    if not os.path.isdir(write_dir):\n",
    "        os.mkdir(write_dir) #make a folder with name of class\n",
    "    class_dir = DATA_PATH + class_name + '/'\n",
    "    for pfile in sorted(os.listdir(class_dir)): #iterate through each video of particular class \n",
    "            inputfile = class_dir + pfile\n",
    "            outputfile = write_dir + pfile.split('.')[0] +'/'+ '%02d.png'\n",
    "            path = write_dir + pfile.split('.')[0]\n",
    "            os.mkdir(path)  #make a folder with name of video to stor the frames of that video\n",
    "\n",
    "            #os.system(\"avconv -i \"+inputfile+\" -r \"+str(10/file_duration[pfile])+\" -s 227x227 -f image2 \"+outputfile)\n",
    "            #avconv is a command available in libav package/utility. this command extracts roughly 10 frames per video\n",
    "            if(file_duration[pfile]>2):\n",
    "                os.system(\"avconv -i \"+inputfile+\" -r 5 -s 227x227 -t 2 -f image2 \"+outputfile)\n",
    "            else:\n",
    "                os.system(\"avconv -i \"+inputfile+\" -r 10 -s 227x227 -t 1 -f image2 \"+outputfile)"
   ]
  },
  {
   "cell_type": "code",
   "execution_count": null,
   "metadata": {
    "collapsed": true
   },
   "outputs": [],
   "source": []
  }
 ],
 "metadata": {
  "kernelspec": {
   "display_name": "Python 2",
   "language": "python",
   "name": "python2"
  },
  "language_info": {
   "codemirror_mode": {
    "name": "ipython",
    "version": 2
   },
   "file_extension": ".py",
   "mimetype": "text/x-python",
   "name": "python",
   "nbconvert_exporter": "python",
   "pygments_lexer": "ipython2",
   "version": "2.7.11"
  }
 },
 "nbformat": 4,
 "nbformat_minor": 0
}
