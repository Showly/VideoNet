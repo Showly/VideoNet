{
 "cells": [
  {
   "cell_type": "code",
   "execution_count": 1,
   "metadata": {
    "collapsed": true
   },
   "outputs": [],
   "source": [
    "#Importing required libraries\n",
    "import os\n",
    "import numpy as np"
   ]
  },
  {
   "cell_type": "code",
   "execution_count": 2,
   "metadata": {
    "collapsed": false
   },
   "outputs": [
    {
     "name": "stdout",
     "output_type": "stream",
     "text": [
      "Error occured!!\n",
      "Error occured!!\n",
      "Error occured!!\n"
     ]
    }
   ],
   "source": [
    "#We have a file (results.txt) containing the name of video and its corresponding durations.\n",
    "#The shell script used to generate this file can be found at ...\n",
    "file_duration={}\n",
    "results=np.loadtxt('/home/ubuntu/VideoNet/results.txt',dtype=str,delimiter='\\n')\n",
    "for i in range(len(results)):\n",
    "    try:\n",
    "        minutes=float(results[i].split(' ')[0])\n",
    "        seconds=float(results[i].split(' ')[1])\n",
    "        duration=(60.0*minutes)+seconds  #duration of each video is stored in the dict file_duratoin\n",
    "        fname=results[i].split(' ')[2].split('/')[1]\n",
    "        file_duration[fname]=duration\n",
    "    except:\n",
    "        print \"Error occured!!\""
   ]
  },
  {
   "cell_type": "code",
   "execution_count": 6,
   "metadata": {
    "collapsed": false
   },
   "outputs": [
    {
     "name": "stdout",
     "output_type": "stream",
     "text": [
      "extracting...\n",
      "extracting for class ApplyEyeMakeup\n",
      "extracting for class ApplyLipstick\n",
      "extracting for class Archery\n",
      "extracting for class BabyCrawling\n",
      "extracting for class BalanceBeam\n",
      "extracting for class BandMarching\n",
      "extracting for class BaseballPitch\n",
      "extracting for class Basketball\n",
      "extracting for class BasketballDunk\n",
      "extracting for class BenchPress\n",
      "extracting for class Biking\n",
      "extracting for class Billiards\n",
      "extracting for class BlowDryHair\n",
      "extracting for class BlowingCandles\n",
      "extracting for class BodyWeightSquats\n",
      "extracting for class Bowling\n",
      "extracting for class BoxingPunchingBag\n",
      "extracting for class BoxingSpeedBag\n",
      "extracting for class BreastStroke\n",
      "extracting for class BrushingTeeth\n",
      "extracting for class CleanAndJerk\n",
      "extracting for class CliffDiving\n",
      "extracting for class CricketBowling\n",
      "extracting for class CricketShot\n",
      "extracting for class CuttingInKitchen\n",
      "extracting for class Diving\n",
      "extracting for class Drumming\n",
      "extracting for class Fencing\n",
      "extracting for class FieldHockeyPenalty\n",
      "extracting for class FloorGymnastics\n",
      "extracting for class FrisbeeCatch\n",
      "extracting for class FrontCrawl\n",
      "extracting for class GolfSwing\n",
      "extracting for class Haircut\n",
      "extracting for class HammerThrow\n",
      "extracting for class Hammering\n",
      "extracting for class HandstandPushups\n",
      "extracting for class HandstandWalking\n",
      "extracting for class HeadMassage\n",
      "extracting for class HighJump\n",
      "extracting for class HorseRace\n",
      "extracting for class HorseRiding\n",
      "extracting for class HulaHoop\n",
      "extracting for class IceDancing\n",
      "extracting for class JavelinThrow\n",
      "extracting for class JugglingBalls\n",
      "extracting for class JumpRope\n",
      "extracting for class JumpingJack\n",
      "extracting for class Kayaking\n",
      "extracting for class Knitting\n",
      "extracting for class LongJump\n",
      "extracting for class Lunges\n",
      "extracting for class MilitaryParade\n",
      "extracting for class Mixing\n",
      "extracting for class MoppingFloor\n",
      "extracting for class Nunchucks\n",
      "extracting for class ParallelBars\n",
      "extracting for class PizzaTossing\n",
      "extracting for class PlayingCello\n",
      "extracting for class PlayingDaf\n",
      "extracting for class PlayingDhol\n",
      "extracting for class PlayingFlute\n",
      "extracting for class PlayingGuitar\n",
      "extracting for class PlayingPiano\n",
      "extracting for class PlayingSitar\n",
      "extracting for class PlayingTabla\n",
      "extracting for class PlayingViolin\n",
      "extracting for class PoleVault\n",
      "extracting for class PommelHorse\n",
      "extracting for class PullUps\n",
      "extracting for class Punch\n",
      "extracting for class PushUps\n",
      "extracting for class Rafting\n",
      "extracting for class RockClimbingIndoor\n",
      "extracting for class RopeClimbing\n",
      "extracting for class Rowing\n",
      "extracting for class SalsaSpin\n",
      "extracting for class ShavingBeard\n",
      "extracting for class Shotput\n",
      "extracting for class SkateBoarding\n",
      "extracting for class Skiing\n",
      "extracting for class Skijet\n",
      "extracting for class SkyDiving\n",
      "extracting for class SoccerJuggling\n",
      "extracting for class SoccerPenalty\n",
      "extracting for class StillRings\n",
      "extracting for class SumoWrestling\n",
      "extracting for class Surfing\n",
      "extracting for class Swing\n",
      "extracting for class TableTennisShot\n",
      "extracting for class TaiChi\n",
      "extracting for class TennisSwing\n",
      "extracting for class ThrowDiscus\n",
      "extracting for class TrampolineJumping\n",
      "extracting for class Typing\n",
      "extracting for class UnevenBars\n",
      "extracting for class VolleyballSpiking\n",
      "extracting for class WalkingWithDog\n",
      "extracting for class WallPushups\n",
      "extracting for class WritingOnBoard\n",
      "extracting for class YoYo\n"
     ]
    }
   ],
   "source": [
    "DATA_PATH = '/home/ubuntu/VideoNet/UCF-101/' # path to the UCF-101 videos in avi format \n",
    "\n",
    "class_names = sorted(os.listdir(DATA_PATH)) \n",
    "\n",
    "WRITE_PATH = '/home/ubuntu/VideoNet/cnn_in_data_server_2seconds/' #path where you want to store the frames extracted from each video\n",
    "\n",
    "\n",
    "print(\"extracting...\")\n",
    "\n",
    "for class_index in range(len(class_names)): #iterate each class of UCF101\n",
    "    class_name = class_names[class_index]\n",
    "    print('extracting for class %s' % class_name)\n",
    "    write_dir = WRITE_PATH + class_name + '/'\n",
    "    if not os.path.isdir(write_dir):\n",
    "        os.mkdir(write_dir) #make a folder with name of class\n",
    "    class_dir = DATA_PATH + class_name + '/'\n",
    "    for pfile in sorted(os.listdir(class_dir)): #iterate through each video of particular class \n",
    "            inputfile = class_dir + pfile\n",
    "            outputfile = write_dir + pfile.split('.')[0] +'/'+ '%02d.png'\n",
    "            path = write_dir + pfile.split('.')[0]\n",
    "            os.mkdir(path)  #make a folder with name of video to stor the frames of that video\n",
    "\n",
    "            #os.system(\"avconv -i \"+inputfile+\" -r \"+str(10/file_duration[pfile])+\" -s 227x227 -f image2 \"+outputfile)\n",
    "            #avconv is a command available in libav package/utility. this command extracts roughly 10 frames per video\n",
    "            if(file_duration[pfile]>2):\n",
    "                os.system(\"avconv -i \"+inputfile+\" -r 5 -s 227x227 -t 2 -f image2 \"+outputfile)\n",
    "            else:\n",
    "                os.system(\"avconv -i \"+inputfile+\" -r 10 -s 227x227 -t 1 -f image2 \"+outputfile)"
   ]
  },
  {
   "cell_type": "code",
   "execution_count": null,
   "metadata": {
    "collapsed": true
   },
   "outputs": [],
   "source": []
  }
 ],
 "metadata": {
  "kernelspec": {
   "display_name": "Python 2",
   "language": "python",
   "name": "python2"
  },
  "language_info": {
   "codemirror_mode": {
    "name": "ipython",
    "version": 2
   },
   "file_extension": ".py",
   "mimetype": "text/x-python",
   "name": "python",
   "nbconvert_exporter": "python",
   "pygments_lexer": "ipython2",
   "version": "2.7.11"
  }
 },
 "nbformat": 4,
 "nbformat_minor": 0
}
